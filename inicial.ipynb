{
 "cells": [
  {
   "cell_type": "markdown",
   "metadata": {},
   "source": [
    "# Sistema de Análise de Score de Crédito\n",
    "Predição de score usando Random Forest e KNN"
   ]
  },
  {
   "cell_type": "code",
   "execution_count": null,
   "metadata": {},
   "outputs": [],
   "source": [
    "# Imports necessários\n",
    "import pandas as pd\n",
    "from sklearn.preprocessing import LabelEncoder\n",
    "from sklearn.model_selection import train_test_split\n",
    "from sklearn.ensemble import RandomForestClassifier\n",
    "from sklearn.neighbors import KNeighborsClassifier\n",
    "from sklearn.metrics import accuracy_score, classification_report"
   ]
  },
  {
   "cell_type": "code",
   "execution_count": null,
   "metadata": {},
   "outputs": [],
   "source": [
    "# Carrega dataset de clientes\n",
    "df = pd.read_csv(\"clientes.csv\")\n",
    "print(f\"Dataset: {df.shape}\")\n",
    "display(df.info())"
   ]
  },
  {
   "cell_type": "code",
   "execution_count": null,
   "metadata": {},
   "outputs": [],
   "source": [
    "# Codifica variáveis categóricas em números\n",
    "colunas_cat = ['profissao', 'mix_credito', 'comportamento_pagamento']\n",
    "encoders = {}\n",
    "\n",
    "for coluna in colunas_cat:\n",
    "    encoder = LabelEncoder()  # Cria codificador\n",
    "    df[coluna] = encoder.fit_transform(df[coluna])  # Aplica codificação\n",
    "    encoders[coluna] = encoder  # Salva para uso posterior\n",
    "\n",
    "print(\"✅ Variáveis codificadas!\")\n",
    "display(df.head())"
   ]
  },
  {
   "cell_type": "code",
   "execution_count": null,
   "metadata": {},
   "outputs": [],
   "source": [
    "# Separa dados em features (X) e target (y)\n",
    "y = df['score_credito']  # Variável que queremos prever\n",
    "X = df.drop(columns=['score_credito', 'id_cliente'])  # Features para previsão\n",
    "\n",
    "# Divide em treino (70%) e teste (30%)\n",
    "X_train, X_test, y_train, y_test = train_test_split(\n",
    "    X, y, test_size=0.3, random_state=42\n",
    ")\n",
    "\n",
    "print(f\"Treino: {X_train.shape} | Teste: {X_test.shape}\")"
   ]
  },
  {
   "cell_type": "code",
   "execution_count": null,
   "metadata": {},
   "outputs": [],
   "source": [
    "# Treina modelos de Machine Learning\n",
    "rf = RandomForestClassifier(random_state=42)  # Modelo Random Forest\n",
    "knn = KNeighborsClassifier(n_neighbors=5)     # Modelo KNN\n",
    "\n",
    "# Treina ambos os modelos\n",
    "rf.fit(X_train, y_train)\n",
    "knn.fit(X_train, y_train)\n",
    "\n",
    "print(\"✅ Modelos treinados!\")"
   ]
  },
  {
   "cell_type": "code",
   "execution_count": null,
   "metadata": {},
   "outputs": [],
   "source": [
    "# Avalia performance dos modelos\n",
    "modelos = [rf, knn]\n",
    "nomes = ['Random Forest', 'KNN']\n",
    "\n",
    "for modelo, nome in zip(modelos, nomes):\n",
    "    y_pred = modelo.predict(X_test)  # Faz previsões\n",
    "    acc = accuracy_score(y_test, y_pred)  # Calcula acurácia\n",
    "    \n",
    "    print(f\"\\n=== {nome.upper()} ===\")\n",
    "    print(f\"Acurácia: {acc:.3f}\")\n",
    "    print(classification_report(y_test, y_pred))"
   ]
  },
  {
   "cell_type": "code",
   "execution_count": null,
   "metadata": {},
   "outputs": [],
   "source": [
    "# Previsão para novos clientes (opcional)\n",
    "import os\n",
    "\n",
    "if os.path.exists(\"novos_clientes.csv\"):\n",
    "    # Carrega novos dados\n",
    "    novos = pd.read_csv(\"novos_clientes.csv\")\n",
    "    \n",
    "    # Aplica mesma codificação\n",
    "    for coluna in colunas_cat:\n",
    "        novos[coluna] = encoders[coluna].transform(novos[coluna])\n",
    "    \n",
    "    # Faz previsões com melhor modelo (Random Forest)\n",
    "    previsoes = rf.predict(novos)\n",
    "    print(f\"Previsões para {len(previsoes)} clientes: {previsoes}\")\n",
    "else:\n",
    "    print(\"Arquivo 'novos_clientes.csv' não encontrado\")"
   ]
  }
 ],
 "metadata": {
  "kernelspec": {
   "display_name": "Python 3",
   "language": "python",
   "name": "python3"
  },
  "language_info": {
   "codemirror_mode": {
    "name": "ipython",
    "version": 3
   },
   "file_extension": ".py",
   "mimetype": "text/x-python",
   "name": "python",
   "nbconvert_exporter": "python",
   "pygments_lexer": "ipython3",
   "version": "3.12.10"
  }
 },
 "nbformat": 4,
 "nbformat_minor": 2
}